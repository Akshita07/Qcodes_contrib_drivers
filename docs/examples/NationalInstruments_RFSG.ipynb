{
 "cells": [
  {
   "cell_type": "markdown",
   "metadata": {},
   "source": [
    "# Qcodes example with the NI RFSG signal generator driver\n",
    "\n",
    "In the example below, we use the [PXIe-5654](https://www.ni.com/en-us/support/model.pxie-5654.html) signal generator, but the RFSG driver should be compatible with most other NI signal generators as well."
   ]
  },
  {
   "cell_type": "code",
   "execution_count": 1,
   "metadata": {},
   "outputs": [],
   "source": [
    "from qcodes_contrib_drivers.drivers.NationalInstruments.NI_RFSG import PXIe_5654"
   ]
  },
  {
   "cell_type": "markdown",
   "metadata": {},
   "source": [
    "## Initialize the instrument\n",
    "\n",
    "The `resource` name should be the name you have set up in NI MAX."
   ]
  },
  {
   "cell_type": "code",
   "execution_count": 2,
   "metadata": {},
   "outputs": [
    {
     "name": "stdout",
     "output_type": "stream",
     "text": [
      "Connected to: National Instruments NI PXIe-5654 (10 GHz) (serial:03176E2E, firmware:Firmware: 2015-03-01 21:42, Bootloader: 8) in 1.92s\n"
     ]
    }
   ],
   "source": [
    "pxie5654 = PXIe_5654(\"PXIe5654\", resource=\"MW_source\")"
   ]
  },
  {
   "cell_type": "markdown",
   "metadata": {},
   "source": [
    "## Generate a signal\n",
    "\n",
    "Set a power level (in dBm) and frequency, and start signal generation."
   ]
  },
  {
   "cell_type": "code",
   "execution_count": 3,
   "metadata": {},
   "outputs": [],
   "source": [
    "pxie5654.power_level(-2)\n",
    "pxie5654.frequency(5e9)\n",
    "pxie5654.output_on(True)"
   ]
  },
  {
   "cell_type": "markdown",
   "metadata": {},
   "source": [
    "The signal should be visible in your oscilloscope now."
   ]
  },
  {
   "cell_type": "code",
   "execution_count": 4,
   "metadata": {},
   "outputs": [],
   "source": [
    "pxie5654.output_on(False)"
   ]
  },
  {
   "cell_type": "markdown",
   "metadata": {},
   "source": [
    "## Generate a pulsed signal"
   ]
  },
  {
   "cell_type": "code",
   "execution_count": null,
   "metadata": {},
   "outputs": [],
   "source": [
    "#TODO"
   ]
  },
  {
   "cell_type": "markdown",
   "metadata": {},
   "source": [
    "## Take a snapshot"
   ]
  },
  {
   "cell_type": "code",
   "execution_count": 5,
   "metadata": {},
   "outputs": [
    {
     "name": "stdout",
     "output_type": "stream",
     "text": [
      "PXIe5654:\n",
      "\tparameter        value\n",
      "--------------------------------------------------------------------------------\n",
      "IDN               :\t{'vendor': 'National Instruments', 'model': 'NI PXIe-5654...\n",
      "clock_source      :\tOnboardClock \n",
      "frequency         :\t5e+09 (Hz)\n",
      "output_on         :\tFalse \n",
      "power_level       :\t-2 (dBm)\n",
      "pulse_mod_enabled :\tFalse \n"
     ]
    }
   ],
   "source": [
    "pxie5654.print_readable_snapshot(update=True)"
   ]
  },
  {
   "cell_type": "markdown",
   "metadata": {},
   "source": [
    "## Close the instrument"
   ]
  },
  {
   "cell_type": "code",
   "execution_count": 6,
   "metadata": {},
   "outputs": [],
   "source": [
    "pxie5654.close()"
   ]
  }
 ],
 "metadata": {
  "kernelspec": {
   "display_name": "Python 3",
   "language": "python",
   "name": "python3"
  },
  "language_info": {
   "codemirror_mode": {
    "name": "ipython",
    "version": 3
   },
   "file_extension": ".py",
   "mimetype": "text/x-python",
   "name": "python",
   "nbconvert_exporter": "python",
   "pygments_lexer": "ipython3",
   "version": "3.7.3"
  }
 },
 "nbformat": 4,
 "nbformat_minor": 2
}
